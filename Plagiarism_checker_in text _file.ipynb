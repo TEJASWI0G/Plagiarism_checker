{
 "cells": [
  {
   "cell_type": "code",
   "execution_count": 1,
   "id": "c1222c73",
   "metadata": {},
   "outputs": [
    {
     "name": "stdout",
     "output_type": "stream",
     "text": [
      "enter your text to check.. by WeChat. nathanmarz,\"Distributed and fault-tolerant realtime computation: stream processing, continuous computation, distributed RPC, and \" PHPMailer,The classic email sending library for PHP rapid7,Metasploit Framework you-dont-need,\"CSS is powerful, you can do a lot of things without JS.\" HubSpot,\"Updated Jun 12, 2017\" jgm,Universal markup converter reactnativecn,React Nativereact-nativeApp abhishekbanthia, A public list of APIs from round the web. android10,This is a sample app that is part of a series of blog posts I have written about how to architect an android applicat BrowserSync,Keep multiple browsers & devices in sync when building websites. http://browsersync.io Automattic,The new JavaScript- and API-powered WordPress.com sqlmapproject,Automatic SQL injection and database takeover tool JohnCoates,Apple TV Aerial Screensaver for Mac marcuswestin,An iOS/OSX bridge for sending messages between Obj-C and JavaScript in UIWebViews/WebViews Hack-with-Github,\"A collection of various awesome lists for hackers, pentesters and security researchers\" pockethub,PocketHub Android App onevcat,\"A lightweight, pure-Swift library for downloading and caching images from the web.\" jessepollak, make your credit card form better in one line of code JuliaLang,The Julia Language: A fresh approach to technical computing. robbiehanson,Asynchronous socket networking library for Mac and iOS facebook,An open-source C++ library developed and used at Facebook. fgnass,A spinning activity indicator dzenbot,A drop-in UITableView/UICollectionView superclass category for showing empty datasets whenever the view has no conten paularmstrong,Normalizes nested JSON according to a schema nagadomi,Image Super-Resolution for Anime-Style Art hashicorp,\"Terraform is a tool for building, changing, and combining infrastructure safely and efficiently.\" karma-runner,Spectacular Test Runner for JavaScript fabric,\"Simple, Pythonic remote execution and deployment.\" pingcap,TiDB is a distributed NewSQL database compatible with MySQL protocol maxwellito,JavaScript library to make drawing animation on SVG fffaraz,\"A curated list of awesome C/C++ frameworks, libraries, resources, and shiny things. Inspired by awesome-... stuff.\" xgrommx,Awesome list of Redux examples and middlewares yeoman,Yeoman - a set of tools for automating development workflow sdelements,Self-hosted chat app for small teams janpaepke,The javascript library for magical scroll interactions. thoughtbot,Easy file attachment management for ActiveRecord PHPOffice,A pure PHP library for reading and writing spreadsheet files niklasvh,Screenshots with JavaScript bailicangdu, vue2 + vuex  45  containous,\"Trfik, a modern reverse proxy\" kevinzhow,A simple and beautiful chart lib used in Piner and CoinsMan for iOS phacility,Open software engineering platform and fun adventure game brillout,Catalog of React Components & Libraries keon,Minimal examples of data structures and algorithms in Python powerline,Patched fonts for Powerline users. redux-saga,An alternative side effect model for Redux apps spree,Spree is a complete open source ecommerce solution for Ruby on Rails kesenhoo,Android ramda, Practical functional Javascript godotengine,Godot Engine  Multi-platform 2D and 3D game engine roots,WordPress starter theme with a modern development workflow imakewebthings,Waypoints is a library that makes it easy to execute a function whenever you scroll to an element. leereilly,\" A list of popular/awesome videos games, add-ons, maps, etc. hosted on GitHub. Any genre. Any platform. Any engine.\" scala,The Scala programming language crystal-lang,The Crystal Programming Language ty4z2008,Machine LearningDeep LearningPostgreSQLDistributed SystemNode.JsGolang fullstackio,swift implementation of flappy bird. More at fullstackedu.com revel,\"A high productivity, full-stack web framework for the Go language.\" AHAAAAAAA, Live visualization of all the pokemon in your area... and more! (shutdown) onevcat,\"Xcode plug-in which helps you write documentation comment easier, for both Objective-C and Swift.\" python,The Python programming language NUKnightLab,TimelineJS: A Storytelling Timeline built in JavaScript. daylerees,Colour schemes for a variety of editors created by Dayle Rees. swagger-api,\"Swagger UI is a collection of HTML, Javascript, and CSS assets that dynamically generate beautiful documentation from\" google,Flexbox for Android tj,\"The ultimate generator based flow-control goodness for nodejs (supports thunks, promises, etc)\" MrRio,Client-side JavaScript PDF generation for everyone. tpope,\"fugitive.vim: a Git wrapper so awesome, it should be illegal\" iissnan,Elegant theme for Hexo. oxford-cs-deepnlp-2017,Oxford Deep NLP 2017 course Microsoft,This repo is the official home of .NET on GitHub. It's a great starting point to find many .NET OSS projects from Mic systemjs,Dynamic ES module loader gollum,\"A simple, Git-powered wiki with a sweet API and local frontend.\" airyland,Vue UI Components based on WeUI metafizzy, Filter & sort magical layouts AngularClass,\" An Angular Starter kit featuring Angular 4 (Router, Http, Forms, Services, Tests, E2E, Dev/Prod, HMR, Async/Lazy R\" thejameskyle, Possibly the smallest compiler ever vuejs,Centralized State Management for Vue.js. so-fancy,Good-lookin' diffs. Actually nah The best-lookin' diffs.  knockout,\"Knockout makes it easier to create rich, responsive UIs with JavaScript\" bmorelli25,Free resources for learning Full Stack Web Development aFarkas,This script is the defacto way to enable use of HTML5 sectioning elements in legacy Internet Explorer. navasmdc,This is a library with components of Android L to you use in android 2.2 carhartl,\"No longer maintained, superseded by JS Cookie:\" chrisbanes,DEPRECATED hehonghui,Android Rochester-NRT,\"An independent, student-led replication of DeepMind's 2016 Nature publication, \"\"Mastering the game of Go with deep ne\" reactjs,Official React bindings for Redux irungentoo,The future of online communications. stylus,\"Expressive, robust, feature-rich CSS language built for nodejs\" thoughtbot,A Lightweight Sass Tool Set ochococo,Design Patterns implemented in Swift kangax,\"Javascript Canvas Library, SVG-to-Canvas (& canvas-to-SVG) Parser\" daimajia,The Most Powerful Swipe Layout! joewalnes,\"Turn any program that uses STDIN/STDOUT into a WebSocket server. Like inetd, but for WebSockets.\" shichuan,JavaScript Patterns handsontable,Handsontable Community Edition - a JavaScript/HTML5 Spreadsheet Library for Developers tj,node.js command-line interfaces made easy apenwarr,Transparent proxy server that works as a poor man's VPN. Forwards over ssh. Doesn't require admin. Works with Linux a gztchan, Creative Resources for Developer and Designer :) vim-syntastic,Syntax checking hacks for vim styled-components,Visual primitives for the component age  mgonto,AngularJS service to handle Rest API Restful Resources properly and easily phalcon,\"High performance, full-stack PHP framework delivered as a C extension.\" scrooloose,A tree explorer plugin for vim. audreyr,Obsessive cheat sheet to favicon sizes/types. Please contribute! (Note: this may be in flux as I learn new things abo goldfire,Javascript audio library for the modern web. encode,Web APIs for Django. slimphp,Slim Framework source code slimphp,Slim Framework source code ruby-grape,An opinionated framework for creating REST-like APIs in Ruby. CosmicMind,An animation and graphics framework for Material Design in Swift. sahat,Token-based AngularJS Authentication javve,\"The perfect library for adding search, sort, filters and flexibility to tables, lists and various HTML elements. Buil\" sindresorhus,Capture website screenshots liaohuqiu,Ultra Pull to Refresh for Android. Support all the views. google,A modern editor with a backend written in Rust. Flipboard,An in-app debugging and exploration tool for iOS airbnb,render React components to Sketch  chriso,String validation hapijs,Server Framework for Node.js realm,Realm is a mobile database: a replacement for SQLite & ORMs WhisperSystems,A private messenger for Android. mitmproxy,An interactive TLS-capable intercepting HTTP proxy for penetration testers and software developers koalaman,\"ShellCheck, a static analysis tool for shell scripts\" NodeRedis,redis client for node greenrobot,greenDAO is a light & fast ORM solution for Android that maps objects to SQLite databases. paperjs,\"The Swiss Army Knife of Vector Graphics Scripting  Scriptographer ported to JavaScript and the browser, using HTML5 \" google,Memory Efficient Serialization Library Matt-Esch,A Virtual DOM and diffing algorithm CymChad,\"Powerful and flexible RecyclerAdapter, www.recyclerview.org\" googlesamples,This sample shows how to implement an audio media app that works across multiple form factors and provide a consisten guillaumepotier,\"Validate your forms, frontend, without writing a single line of javascript\" facebook,\"A library that provides an embeddable, persistent key-value store for fast storage.\" eslint,A fully pluggable tool for identifying and reporting on patterns in JavaScript. alexjc,\"Turn your two-bit doodles into fine artworks with deep neural networks, generate seamless textures from photos, trans\" facebook,\"An easy way to add a simple, shimmering effect to any view in an iOS app.\" jtoy,TensorFlow - A curated list of dedicated resources http://tensorflow.org matryer,Put the output from any script or program in your Mac OS X Menu Bar facebook,\"Stetho is a debug bridge for Android applications, enabling the powerful Chrome Developer Tools and much more.\" arasatasaygin,Micro check library nodemailer, Send e-mails with Node.JS  easy as cake! teamcapybara,Acceptance test fram\n"
     ]
    },
    {
     "name": "stdout",
     "output_type": "stream",
     "text": [
      "__________________________________________________________________________________\n",
      "plaigirism percentage: 19.587031290000002 %\n",
      "19.587031290000002\n",
      "Data written to toprint.txt\n"
     ]
    }
   ],
   "source": [
    "import pandas as pd\n",
    "import numpy as np\n",
    "#_____________________\n",
    "df = pd.read_csv('Projectsdataset.csv')\n",
    "#_____________________\n",
    "import pandas as pd\n",
    "ProjectDF = pd.read_csv('Projectsdataset.csv')\n",
    "object_columns = ProjectDF.select_dtypes(include=['object'])\n",
    "\n",
    "from difflib import SequenceMatcher \n",
    "with open('originaltext.txt') as file_1: \n",
    "    file1_data = file_1.read() \n",
    "    #file2_data = file_2.read() \n",
    "x = input(\"enter your text to check..\")\n",
    "similarity_ratio = SequenceMatcher(None,file1_data,x).ratio() \n",
    "final = round(similarity_ratio, 10)\n",
    "print(\"__________________________________________________________________________________\")\n",
    "print(\"plaigirism percentage:\",final*100,\"%\")\n",
    "#____________\n",
    "x = final *100\n",
    "data_to_write = str(x)\n",
    "print(x)\n",
    "#____________\n",
    "file_path = \"toprint.txt\"\n",
    "\n",
    "with open(file_path, 'w') as file:\n",
    "    # Write the data to the file\n",
    "    \n",
    "    file.write(data_to_write)\n",
    "#____________\n",
    "\n",
    "data_to_write = str(x)\n",
    "file_path = \"toprint.txt\"\n",
    "\n",
    "with open(file_path, 'w') as file:\n",
    "    # Write the data to the file\n",
    "    file.write(data_to_write)\n",
    "\n",
    "print(f\"Data written to {file_path}\")"
   ]
  },
  {
   "cell_type": "code",
   "execution_count": null,
   "id": "7d820143",
   "metadata": {},
   "outputs": [],
   "source": []
  }
 ],
 "metadata": {
  "kernelspec": {
   "display_name": "Python 3 (ipykernel)",
   "language": "python",
   "name": "python3"
  },
  "language_info": {
   "codemirror_mode": {
    "name": "ipython",
    "version": 3
   },
   "file_extension": ".py",
   "mimetype": "text/x-python",
   "name": "python",
   "nbconvert_exporter": "python",
   "pygments_lexer": "ipython3",
   "version": "3.10.9"
  }
 },
 "nbformat": 4,
 "nbformat_minor": 5
}
